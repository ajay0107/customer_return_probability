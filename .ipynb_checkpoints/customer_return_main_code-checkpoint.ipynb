{
 "cells": [
  {
   "cell_type": "markdown",
   "metadata": {},
   "source": [
    "## Table of Contents: <a class=\"anchor\" id=\"table-of-contents\"></a>"
   ]
  },
  {
   "cell_type": "markdown",
   "metadata": {},
   "source": [
    "* [Section 1: Install Packages](#Install-Packages)\n",
    "* [Section 2: Load Data](#load-data)\n",
    "* [Section 3: Summary of Data](#summary-of-data)\n",
    "    * [Section 3.1: Exploratory Data Analysis (EDA) of Order Data](#section_3_1)\n",
    "        * [Section 3.1.1: Data Shape and Structure](#section_3_1_1)\n",
    "        * [Section 3.1.2: Summary of Numerical Columns](#section_3_1_2)\n",
    "        * [Section 3.1.3: Number of Unique Ids](#section_3_1_3)\n",
    "        * [Section 3.1.4: Imputing Missing Data](#section_3_1_4)\n",
    "        * [Section 3.1.5: Outlier Detection and Removal](#section_3_1_5)\n",
    "        * [Section 3.1.6: Trend of Orders with Time](#section_3_1_6)\n",
    "        * [Section 3.1.7: Deciding Time Range of Order Data](#section_3_1_7)\n",
    "    * [Section 3.2: Basic Details of Labeled Data](#section_3_2)\n",
    "* [Section 4: Feature Engineering](#section_4)\n",
    "    * [Section 4.1: Removing Failed Orders before Feature Engineering](#section_4_1)\n",
    "    * [Section 4.2: Creating New Features](#section_4_2)\n",
    "        * [Section 4.2.1: Total number of orders by each customers(Frequency (F)) ](#section_4_2_1)\n",
    "        * [Section 4.2.2: Total Order Value by Each Customer](#section_4_2_2)\n",
    "        * [Section 4.2.3: Total amount paid in last 180 days](#section_4_2_3)\n",
    "        * [Section 4.2.4: % of Failed Orders](#section_4_2_4)\n",
    "        * [Section 4.2.5: Number of unique restaurants customer ordered from](#section_4_2_5)\n",
    "        * [Section 4.2.6: Recency, Customer Maturity, Relative change in spending in 2nd half](#section_4_2_6)\n",
    "        * [Section 4.2.5: Number of unique restaurants customer ordered from](#section_4_2_5)\n",
    "        * [Section 4.2.5: Number of unique restaurants customer ordered from](#section_4_2_5)\n",
    "        * [Section 4.2.5: Number of unique restaurants customer ordered from](#section_4_2_5)\n",
    "        * [Section 4.2.5: Number of unique restaurants customer ordered from](#section_4_2_5)"
   ]
  },
  {
   "cell_type": "markdown",
   "metadata": {},
   "source": [
    "## Install Packages <a class=\"anchor\" id=\"Install-Packages\"></a>"
   ]
  },
  {
   "cell_type": "code",
   "execution_count": 145,
   "metadata": {},
   "outputs": [],
   "source": [
    "import numpy as np\n",
    "import pandas as pd\n",
    "import matplotlib.pyplot as plt\n",
    "from datetime import datetime"
   ]
  },
  {
   "cell_type": "code",
   "execution_count": 222,
   "metadata": {},
   "outputs": [],
   "source": [
    "# functions definiton\n",
    "\n",
    "def num_unique_values(df):\n",
    "    \"\"\"\n",
    "    This function takes dataframe and returns number of unique values in each column\n",
    "    :param df: dataframe\n",
    "    :return: dataframe of names of columns and number of unique values in each columns\n",
    "    \"\"\"\n",
    "    col_names = []\n",
    "    values = []\n",
    "    for col in df.columns:\n",
    "        col_names.append(col)\n",
    "        values.append(len(df[col].unique()))\n",
    "    return(pd.DataFrame({'col_names':col_names,'num_unique_values':values}))\n",
    "\n",
    "\n",
    "def perc_return_customers(df, bin_col,bins,title,xlab,ylab,bins_range, fontsize):\n",
    "    \"\"\"\n",
    "    This function takes dataframe with bins and plots bar plot of returning customers with x-axis\n",
    "    :param df: dataframe with bins\n",
    "    :param bin_col: name of column containing bins\n",
    "    :param bins: bins range\n",
    "    :param title: title of plot\n",
    "    :param xlab: x-label of plot\n",
    "    :param ylab: y-label of plot\n",
    "    :param bins_range: whether bins range is provided 'auto' or 'manual'\n",
    "    :param fontsize: fontsize of title,labels\n",
    "    :return: None\n",
    "    \"\"\"\n",
    "    df = df.groupby([bin_col],as_index= False).agg({'customer_id':'count','is_returning_customer':'sum'})\n",
    "    # calculating percentage of returning customers\n",
    "    df['perc_return_cust'] = (df['is_returning_customer']/df['customer_id'])*100\n",
    "    # plotting bar graph\n",
    "    if bins_range == 'auto':\n",
    "        df['bin_index'] = range(1,bins+1,1)\n",
    "    else:\n",
    "        df['bin_index'] = range(1,len(bins),1)\n",
    "    plt.bar(df['bin_index'],df['perc_return_cust'] )\n",
    "    plt.xticks(df['bin_index'],df[bin_col])\n",
    "    plt.title(title, fontweight='bold',fontsize=fontsize)\n",
    "    plt.xlabel(xlab, fontsize=fontsize)\n",
    "    plt.ylabel(ylab,fontsize=fontsize)\n",
    "    return None\n",
    "    "
   ]
  },
  {
   "cell_type": "markdown",
   "metadata": {},
   "source": [
    "## Load Data <a class=\"anchor\" id=\"load-data\"></a>"
   ]
  },
  {
   "cell_type": "code",
   "execution_count": 147,
   "metadata": {
    "scrolled": true
   },
   "outputs": [],
   "source": [
    "# loading data\n",
    "df_order = pd.read_csv('data/machine_learning_challenge_order_data.csv',index_col=False) # loading order data\n",
    "df_labeled = pd.read_csv('data/machine_learning_challenge_labeled_data.csv',index_col=False) # loading labeled data"
   ]
  },
  {
   "cell_type": "markdown",
   "metadata": {},
   "source": [
    "## Exploratory Data Analysis (EDA) <a class=\"anchor\" id=\"summary-of-data\"></a>"
   ]
  },
  {
   "cell_type": "markdown",
   "metadata": {},
   "source": [
    "### Exploratory Data Analysis (EDA) of Order Data <a class=\"anchor\" id=\"section_3_1\"></a>"
   ]
  },
  {
   "cell_type": "markdown",
   "metadata": {},
   "source": [
    "#### Data Shape and Structure <a class=\"anchor\" id=\"section_3_1_1\"></a>"
   ]
  },
  {
   "cell_type": "code",
   "execution_count": 148,
   "metadata": {
    "scrolled": true
   },
   "outputs": [
    {
     "name": "stdout",
     "output_type": "stream",
     "text": [
      "(786600, 13)\n"
     ]
    },
    {
     "data": {
      "text/html": [
       "<div>\n",
       "<style scoped>\n",
       "    .dataframe tbody tr th:only-of-type {\n",
       "        vertical-align: middle;\n",
       "    }\n",
       "\n",
       "    .dataframe tbody tr th {\n",
       "        vertical-align: top;\n",
       "    }\n",
       "\n",
       "    .dataframe thead th {\n",
       "        text-align: right;\n",
       "    }\n",
       "</style>\n",
       "<table border=\"1\" class=\"dataframe\">\n",
       "  <thead>\n",
       "    <tr style=\"text-align: right;\">\n",
       "      <th></th>\n",
       "      <th>customer_id</th>\n",
       "      <th>order_date</th>\n",
       "      <th>order_hour</th>\n",
       "      <th>customer_order_rank</th>\n",
       "      <th>is_failed</th>\n",
       "      <th>voucher_amount</th>\n",
       "      <th>delivery_fee</th>\n",
       "      <th>amount_paid</th>\n",
       "      <th>restaurant_id</th>\n",
       "      <th>city_id</th>\n",
       "      <th>payment_id</th>\n",
       "      <th>platform_id</th>\n",
       "      <th>transmission_id</th>\n",
       "    </tr>\n",
       "  </thead>\n",
       "  <tbody>\n",
       "    <tr>\n",
       "      <th>0</th>\n",
       "      <td>000097eabfd9</td>\n",
       "      <td>2015-06-20</td>\n",
       "      <td>19</td>\n",
       "      <td>1.0</td>\n",
       "      <td>0</td>\n",
       "      <td>0.0</td>\n",
       "      <td>0.000</td>\n",
       "      <td>11.46960</td>\n",
       "      <td>5803498</td>\n",
       "      <td>20326</td>\n",
       "      <td>1779</td>\n",
       "      <td>30231</td>\n",
       "      <td>4356</td>\n",
       "    </tr>\n",
       "    <tr>\n",
       "      <th>1</th>\n",
       "      <td>0000e2c6d9be</td>\n",
       "      <td>2016-01-29</td>\n",
       "      <td>20</td>\n",
       "      <td>1.0</td>\n",
       "      <td>0</td>\n",
       "      <td>0.0</td>\n",
       "      <td>0.000</td>\n",
       "      <td>9.55800</td>\n",
       "      <td>239303498</td>\n",
       "      <td>76547</td>\n",
       "      <td>1619</td>\n",
       "      <td>30359</td>\n",
       "      <td>4356</td>\n",
       "    </tr>\n",
       "    <tr>\n",
       "      <th>2</th>\n",
       "      <td>000133bb597f</td>\n",
       "      <td>2017-02-26</td>\n",
       "      <td>19</td>\n",
       "      <td>1.0</td>\n",
       "      <td>0</td>\n",
       "      <td>0.0</td>\n",
       "      <td>0.493</td>\n",
       "      <td>5.93658</td>\n",
       "      <td>206463498</td>\n",
       "      <td>33833</td>\n",
       "      <td>1619</td>\n",
       "      <td>30359</td>\n",
       "      <td>4324</td>\n",
       "    </tr>\n",
       "    <tr>\n",
       "      <th>3</th>\n",
       "      <td>00018269939b</td>\n",
       "      <td>2017-02-05</td>\n",
       "      <td>17</td>\n",
       "      <td>1.0</td>\n",
       "      <td>0</td>\n",
       "      <td>0.0</td>\n",
       "      <td>0.493</td>\n",
       "      <td>9.82350</td>\n",
       "      <td>36613498</td>\n",
       "      <td>99315</td>\n",
       "      <td>1619</td>\n",
       "      <td>30359</td>\n",
       "      <td>4356</td>\n",
       "    </tr>\n",
       "    <tr>\n",
       "      <th>4</th>\n",
       "      <td>0001a00468a6</td>\n",
       "      <td>2015-08-04</td>\n",
       "      <td>19</td>\n",
       "      <td>1.0</td>\n",
       "      <td>0</td>\n",
       "      <td>0.0</td>\n",
       "      <td>0.493</td>\n",
       "      <td>5.15070</td>\n",
       "      <td>225853498</td>\n",
       "      <td>16456</td>\n",
       "      <td>1619</td>\n",
       "      <td>29463</td>\n",
       "      <td>4356</td>\n",
       "    </tr>\n",
       "  </tbody>\n",
       "</table>\n",
       "</div>"
      ],
      "text/plain": [
       "    customer_id  order_date  order_hour  customer_order_rank  is_failed  \\\n",
       "0  000097eabfd9  2015-06-20          19                  1.0          0   \n",
       "1  0000e2c6d9be  2016-01-29          20                  1.0          0   \n",
       "2  000133bb597f  2017-02-26          19                  1.0          0   \n",
       "3  00018269939b  2017-02-05          17                  1.0          0   \n",
       "4  0001a00468a6  2015-08-04          19                  1.0          0   \n",
       "\n",
       "   voucher_amount  delivery_fee  amount_paid  restaurant_id  city_id  \\\n",
       "0             0.0         0.000     11.46960        5803498    20326   \n",
       "1             0.0         0.000      9.55800      239303498    76547   \n",
       "2             0.0         0.493      5.93658      206463498    33833   \n",
       "3             0.0         0.493      9.82350       36613498    99315   \n",
       "4             0.0         0.493      5.15070      225853498    16456   \n",
       "\n",
       "   payment_id  platform_id  transmission_id  \n",
       "0        1779        30231             4356  \n",
       "1        1619        30359             4356  \n",
       "2        1619        30359             4324  \n",
       "3        1619        30359             4356  \n",
       "4        1619        29463             4356  "
      ]
     },
     "execution_count": 148,
     "metadata": {},
     "output_type": "execute_result"
    }
   ],
   "source": [
    "# get glimpse of order data\n",
    "print(df_order.shape)\n",
    "df_order.head()"
   ]
  },
  {
   "cell_type": "markdown",
   "metadata": {},
   "source": [
    "#### Summary of Numerical Columns <a class=\"anchor\" id=\"section_3_1_2\"></a>"
   ]
  },
  {
   "cell_type": "code",
   "execution_count": 149,
   "metadata": {},
   "outputs": [
    {
     "data": {
      "text/html": [
       "<div>\n",
       "<style scoped>\n",
       "    .dataframe tbody tr th:only-of-type {\n",
       "        vertical-align: middle;\n",
       "    }\n",
       "\n",
       "    .dataframe tbody tr th {\n",
       "        vertical-align: top;\n",
       "    }\n",
       "\n",
       "    .dataframe thead th {\n",
       "        text-align: right;\n",
       "    }\n",
       "</style>\n",
       "<table border=\"1\" class=\"dataframe\">\n",
       "  <thead>\n",
       "    <tr style=\"text-align: right;\">\n",
       "      <th></th>\n",
       "      <th>order_hour</th>\n",
       "      <th>customer_order_rank</th>\n",
       "      <th>is_failed</th>\n",
       "      <th>voucher_amount</th>\n",
       "      <th>delivery_fee</th>\n",
       "      <th>amount_paid</th>\n",
       "    </tr>\n",
       "  </thead>\n",
       "  <tbody>\n",
       "    <tr>\n",
       "      <th>count</th>\n",
       "      <td>786600.000000</td>\n",
       "      <td>761833.000000</td>\n",
       "      <td>786600.000000</td>\n",
       "      <td>786600.000000</td>\n",
       "      <td>786600.00000</td>\n",
       "      <td>786600.000000</td>\n",
       "    </tr>\n",
       "    <tr>\n",
       "      <th>mean</th>\n",
       "      <td>17.588796</td>\n",
       "      <td>9.436810</td>\n",
       "      <td>0.031486</td>\n",
       "      <td>0.091489</td>\n",
       "      <td>0.18118</td>\n",
       "      <td>10.183271</td>\n",
       "    </tr>\n",
       "    <tr>\n",
       "      <th>std</th>\n",
       "      <td>3.357192</td>\n",
       "      <td>17.772322</td>\n",
       "      <td>0.174628</td>\n",
       "      <td>0.479558</td>\n",
       "      <td>0.36971</td>\n",
       "      <td>5.618121</td>\n",
       "    </tr>\n",
       "    <tr>\n",
       "      <th>min</th>\n",
       "      <td>0.000000</td>\n",
       "      <td>1.000000</td>\n",
       "      <td>0.000000</td>\n",
       "      <td>0.000000</td>\n",
       "      <td>0.00000</td>\n",
       "      <td>0.000000</td>\n",
       "    </tr>\n",
       "    <tr>\n",
       "      <th>25%</th>\n",
       "      <td>16.000000</td>\n",
       "      <td>1.000000</td>\n",
       "      <td>0.000000</td>\n",
       "      <td>0.000000</td>\n",
       "      <td>0.00000</td>\n",
       "      <td>6.648120</td>\n",
       "    </tr>\n",
       "    <tr>\n",
       "      <th>50%</th>\n",
       "      <td>18.000000</td>\n",
       "      <td>3.000000</td>\n",
       "      <td>0.000000</td>\n",
       "      <td>0.000000</td>\n",
       "      <td>0.00000</td>\n",
       "      <td>9.027000</td>\n",
       "    </tr>\n",
       "    <tr>\n",
       "      <th>75%</th>\n",
       "      <td>20.000000</td>\n",
       "      <td>10.000000</td>\n",
       "      <td>0.000000</td>\n",
       "      <td>0.000000</td>\n",
       "      <td>0.00000</td>\n",
       "      <td>12.213000</td>\n",
       "    </tr>\n",
       "    <tr>\n",
       "      <th>max</th>\n",
       "      <td>23.000000</td>\n",
       "      <td>369.000000</td>\n",
       "      <td>1.000000</td>\n",
       "      <td>93.398900</td>\n",
       "      <td>9.86000</td>\n",
       "      <td>1131.030000</td>\n",
       "    </tr>\n",
       "  </tbody>\n",
       "</table>\n",
       "</div>"
      ],
      "text/plain": [
       "          order_hour  customer_order_rank      is_failed  voucher_amount  \\\n",
       "count  786600.000000        761833.000000  786600.000000   786600.000000   \n",
       "mean       17.588796             9.436810       0.031486        0.091489   \n",
       "std         3.357192            17.772322       0.174628        0.479558   \n",
       "min         0.000000             1.000000       0.000000        0.000000   \n",
       "25%        16.000000             1.000000       0.000000        0.000000   \n",
       "50%        18.000000             3.000000       0.000000        0.000000   \n",
       "75%        20.000000            10.000000       0.000000        0.000000   \n",
       "max        23.000000           369.000000       1.000000       93.398900   \n",
       "\n",
       "       delivery_fee    amount_paid  \n",
       "count  786600.00000  786600.000000  \n",
       "mean        0.18118      10.183271  \n",
       "std         0.36971       5.618121  \n",
       "min         0.00000       0.000000  \n",
       "25%         0.00000       6.648120  \n",
       "50%         0.00000       9.027000  \n",
       "75%         0.00000      12.213000  \n",
       "max         9.86000    1131.030000  "
      ]
     },
     "execution_count": 149,
     "metadata": {},
     "output_type": "execute_result"
    }
   ],
   "source": [
    "# split columns into 3 categories numerical, id and date columns for future use\n",
    "numerical_cols = ['order_hour', 'customer_order_rank','is_failed','voucher_amount', 'delivery_fee', 'amount_paid']\n",
    "id_cols = ['customer_id','restaurant_id', 'city_id', 'payment_id', 'platform_id','transmission_id']\n",
    "date_cols = ['order_date']\n",
    "# summary of numerical columns of order data\n",
    "df_order.loc[:,numerical_cols].describe()"
   ]
  },
  {
   "cell_type": "markdown",
   "metadata": {},
   "source": [
    "#### Number of Unique Ids <a class=\"anchor\" id=\"section_3_1_3\"></a>"
   ]
  },
  {
   "cell_type": "code",
   "execution_count": 150,
   "metadata": {
    "scrolled": true
   },
   "outputs": [
    {
     "data": {
      "text/html": [
       "<div>\n",
       "<style scoped>\n",
       "    .dataframe tbody tr th:only-of-type {\n",
       "        vertical-align: middle;\n",
       "    }\n",
       "\n",
       "    .dataframe tbody tr th {\n",
       "        vertical-align: top;\n",
       "    }\n",
       "\n",
       "    .dataframe thead th {\n",
       "        text-align: right;\n",
       "    }\n",
       "</style>\n",
       "<table border=\"1\" class=\"dataframe\">\n",
       "  <thead>\n",
       "    <tr style=\"text-align: right;\">\n",
       "      <th></th>\n",
       "      <th>col_names</th>\n",
       "      <th>num_unique_values</th>\n",
       "    </tr>\n",
       "  </thead>\n",
       "  <tbody>\n",
       "    <tr>\n",
       "      <th>0</th>\n",
       "      <td>customer_id</td>\n",
       "      <td>245455</td>\n",
       "    </tr>\n",
       "    <tr>\n",
       "      <th>1</th>\n",
       "      <td>restaurant_id</td>\n",
       "      <td>13569</td>\n",
       "    </tr>\n",
       "    <tr>\n",
       "      <th>2</th>\n",
       "      <td>city_id</td>\n",
       "      <td>3749</td>\n",
       "    </tr>\n",
       "    <tr>\n",
       "      <th>3</th>\n",
       "      <td>payment_id</td>\n",
       "      <td>5</td>\n",
       "    </tr>\n",
       "    <tr>\n",
       "      <th>4</th>\n",
       "      <td>platform_id</td>\n",
       "      <td>14</td>\n",
       "    </tr>\n",
       "    <tr>\n",
       "      <th>5</th>\n",
       "      <td>transmission_id</td>\n",
       "      <td>10</td>\n",
       "    </tr>\n",
       "  </tbody>\n",
       "</table>\n",
       "</div>"
      ],
      "text/plain": [
       "         col_names  num_unique_values\n",
       "0      customer_id             245455\n",
       "1    restaurant_id              13569\n",
       "2          city_id               3749\n",
       "3       payment_id                  5\n",
       "4      platform_id                 14\n",
       "5  transmission_id                 10"
      ]
     },
     "execution_count": 150,
     "metadata": {},
     "output_type": "execute_result"
    }
   ],
   "source": [
    "# Number of unique ids in order data\n",
    "num_unique_values(df_order[id_cols])"
   ]
  },
  {
   "cell_type": "markdown",
   "metadata": {},
   "source": [
    "#### Imputing Missing Data <a class=\"anchor\" id=\"section_3_1_4\"></a>"
   ]
  },
  {
   "cell_type": "code",
   "execution_count": 151,
   "metadata": {
    "scrolled": true
   },
   "outputs": [
    {
     "data": {
      "text/plain": [
       "customer_id                0\n",
       "order_date                 0\n",
       "order_hour                 0\n",
       "customer_order_rank    24767\n",
       "is_failed                  0\n",
       "voucher_amount             0\n",
       "delivery_fee               0\n",
       "amount_paid                0\n",
       "restaurant_id              0\n",
       "city_id                    0\n",
       "payment_id                 0\n",
       "platform_id                0\n",
       "transmission_id            0\n",
       "dtype: int64"
      ]
     },
     "execution_count": 151,
     "metadata": {},
     "output_type": "execute_result"
    }
   ],
   "source": [
    "# checking number of null values in order data\n",
    "df_order.isnull().sum()"
   ]
  },
  {
   "cell_type": "markdown",
   "metadata": {},
   "source": [
    "**customer_order_rank** contains **24761** null values and all other columns doesn't contain any null values. We need to why is there null values in customer_order_rank."
   ]
  },
  {
   "cell_type": "markdown",
   "metadata": {},
   "source": [
    "#### FInding reason for customer having null values in order rank"
   ]
  },
  {
   "cell_type": "code",
   "execution_count": 152,
   "metadata": {
    "scrolled": true
   },
   "outputs": [],
   "source": [
    "# Records where customer_order_rank is null\n",
    "df_order_rank_null = df_order.loc[df_order['customer_order_rank'].isnull(),:]"
   ]
  },
  {
   "cell_type": "markdown",
   "metadata": {},
   "source": [
    "`It seems like where ever order was failed, customer order rank was left blank which makes sense. Let's verify, is all combinations of customer_order_rank x is_failed is NAN x 1 ?`"
   ]
  },
  {
   "cell_type": "code",
   "execution_count": 153,
   "metadata": {},
   "outputs": [
    {
     "data": {
      "text/html": [
       "<div>\n",
       "<style scoped>\n",
       "    .dataframe tbody tr th:only-of-type {\n",
       "        vertical-align: middle;\n",
       "    }\n",
       "\n",
       "    .dataframe tbody tr th {\n",
       "        vertical-align: top;\n",
       "    }\n",
       "\n",
       "    .dataframe thead th {\n",
       "        text-align: right;\n",
       "    }\n",
       "</style>\n",
       "<table border=\"1\" class=\"dataframe\">\n",
       "  <thead>\n",
       "    <tr style=\"text-align: right;\">\n",
       "      <th></th>\n",
       "      <th>customer_id</th>\n",
       "      <th>order_date</th>\n",
       "      <th>order_hour</th>\n",
       "      <th>customer_order_rank</th>\n",
       "      <th>is_failed</th>\n",
       "      <th>voucher_amount</th>\n",
       "      <th>delivery_fee</th>\n",
       "      <th>amount_paid</th>\n",
       "      <th>restaurant_id</th>\n",
       "      <th>city_id</th>\n",
       "      <th>payment_id</th>\n",
       "      <th>platform_id</th>\n",
       "      <th>transmission_id</th>\n",
       "    </tr>\n",
       "  </thead>\n",
       "  <tbody>\n",
       "    <tr>\n",
       "      <th>160</th>\n",
       "      <td>000afe75dc19</td>\n",
       "      <td>2015-06-03</td>\n",
       "      <td>21</td>\n",
       "      <td>NaN</td>\n",
       "      <td>1</td>\n",
       "      <td>0.0</td>\n",
       "      <td>0.0</td>\n",
       "      <td>7.434</td>\n",
       "      <td>161043498</td>\n",
       "      <td>97301</td>\n",
       "      <td>1779</td>\n",
       "      <td>29751</td>\n",
       "      <td>4356</td>\n",
       "    </tr>\n",
       "  </tbody>\n",
       "</table>\n",
       "</div>"
      ],
      "text/plain": [
       "      customer_id  order_date  order_hour  customer_order_rank  is_failed  \\\n",
       "160  000afe75dc19  2015-06-03          21                  NaN          1   \n",
       "\n",
       "     voucher_amount  delivery_fee  amount_paid  restaurant_id  city_id  \\\n",
       "160             0.0           0.0        7.434      161043498    97301   \n",
       "\n",
       "     payment_id  platform_id  transmission_id  \n",
       "160        1779        29751             4356  "
      ]
     },
     "execution_count": 153,
     "metadata": {},
     "output_type": "execute_result"
    }
   ],
   "source": [
    "# verifying if there exist only one combination of NAN x 1\n",
    "df_order_rank_null.drop_duplicates(subset = ['customer_order_rank','is_failed'],keep ='first')"
   ]
  },
  {
   "cell_type": "markdown",
   "metadata": {},
   "source": [
    "It's verified that **customer_order_rank is null, where ever order was failed**. We don't need to impute data as missing values in customer order rank is due to valid reason and not because of missing entries."
   ]
  },
  {
   "cell_type": "markdown",
   "metadata": {},
   "source": [
    "#### Outlier Detection and Removal <a class=\"anchor\" id=\"section_3_1_5\"></a> "
   ]
  },
  {
   "cell_type": "markdown",
   "metadata": {},
   "source": [
    "`Discovering outliers with visualization`"
   ]
  },
  {
   "cell_type": "code",
   "execution_count": 154,
   "metadata": {},
   "outputs": [
    {
     "name": "stdout",
     "output_type": "stream",
     "text": [
      "Range of Order Hour is : \n",
      "0 to 23\n",
      "\n",
      "Range of order dates : \n",
      " 2012-05-17 00:00:00 - 2017-02-27 00:00:00\n",
      "\n",
      "Unique values in is_failed : \n",
      "[0 1]\n"
     ]
    }
   ],
   "source": [
    "# check if order hour lies between 0 - 23 for all records\n",
    "print('Range of Order Hour is : \\n{} to {}\\n'.format(df_order['order_hour'].min(),df_order['order_hour'].max()))\n",
    "# Time range of Order data\n",
    "# convert date into datetime datatype\n",
    "df_order['order_date'] = pd.to_datetime(df_order['order_date'])\n",
    "# get range of order date\n",
    "print('Range of order dates : \\n {} - {}\\n'.format(min(df_order['order_date']),max(df_order['order_date'])))\n",
    "# Unique Value of is_failed\n",
    "print('Unique values in is_failed : \\n{}'.format(df_order['is_failed'].unique()))"
   ]
  },
  {
   "cell_type": "markdown",
   "metadata": {},
   "source": [
    "`There is no outlier in Order Hour, Order Date and is_failed columns`"
   ]
  },
  {
   "cell_type": "code",
   "execution_count": 155,
   "metadata": {},
   "outputs": [
    {
     "data": {
      "text/plain": [
       "Text(0.5, 1.0, 'Boxplot Customer Order Rank')"
      ]
     },
     "execution_count": 155,
     "metadata": {},
     "output_type": "execute_result"
    },
    {
     "data": {
      "image/png": "[encoded data removed]",
      "text/plain": [
       "<Figure size 864x720 with 4 Axes>"
      ]
     },
     "metadata": {
      "needs_background": "light"
     },
     "output_type": "display_data"
    }
   ],
   "source": [
    "# Ploting boxplots for relevant numerical variables in order data\n",
    "fig, axs = plt.subplots(2, 2, figsize=(12,10))\n",
    "axs[0, 0].boxplot(df_order['voucher_amount'])\n",
    "axs[0, 0].set_title('Boxplot Voucher Amount')\n",
    "axs[0, 1].boxplot(df_order['delivery_fee'])\n",
    "axs[0, 1].set_title('Boxplot Delivery Fee')\n",
    "axs[1, 0].boxplot(df_order['amount_paid'])\n",
    "axs[1, 0].set_title('Boxplot Amount Paid')\n",
    "axs[1, 1].boxplot(df_order['customer_order_rank'][~df_order['customer_order_rank'].isnull()])\n",
    "axs[1, 1].set_title('Boxplot Customer Order Rank')"
   ]
  },
  {
   "cell_type": "markdown",
   "metadata": {},
   "source": [
    "Amount paid is greater than 500 in two cases,but they may not be an outlier. It may be an order on **special occasion** like \n",
    "Birthday Party, Anniversary etc when people order in large quantities, so we are not categorizing it as Outlier. **We don't find any outlier in voucher_amount, delivery_fee, amount_paid and customer order rank**. All are in reasonable range."
   ]
  },
  {
   "cell_type": "markdown",
   "metadata": {},
   "source": [
    "#### Deciding Time Range of Order Data <a class=\"anchor\" id=\"section_3_1_7\"></a>"
   ]
  },
  {
   "cell_type": "markdown",
   "metadata": {},
   "source": [
    "#### Trend of Orders with Time <a class=\"anchor\" id=\"section_3_1_6\"></a> "
   ]
  },
  {
   "cell_type": "code",
   "execution_count": 156,
   "metadata": {
    "scrolled": true
   },
   "outputs": [
    {
     "data": {
      "text/plain": [
       "Text(0, 0.5, 'Number of Orders')"
      ]
     },
     "execution_count": 156,
     "metadata": {},
     "output_type": "execute_result"
    },
    {
     "data": {
      "image/png": "[encoded data removed]",
      "text/plain": [
       "<Figure size 864x288 with 1 Axes>"
      ]
     },
     "metadata": {
      "needs_background": "light"
     },
     "output_type": "display_data"
    }
   ],
   "source": [
    "# trend of orders with respect to time (i.e. number of orders each day)\n",
    "df_orders_by_time = df_order.groupby(['order_date'], as_index = False).size().reset_index(name='count')\n",
    "plt.figure(figsize=(12,4))\n",
    "plt.plot(df_orders_by_time['order_date'],df_orders_by_time['count'])\n",
    "plt.title('Number of Orders with time', fontsize = 15, fontweight='bold' )\n",
    "plt.xlabel('Time', fontsize = 15)\n",
    "plt.ylabel('Number of Orders', fontsize = 15)"
   ]
  },
  {
   "cell_type": "markdown",
   "metadata": {},
   "source": [
    "We need to choose time-frame for our orders data. From above graph, We can see that there are negligible orders before **March 2015**. We need to exactly find this date after which significant orders started. From EDA, we can say that let's take starting date of data at which first time we received atlleast 100 orders."
   ]
  },
  {
   "cell_type": "code",
   "execution_count": 157,
   "metadata": {},
   "outputs": [
    {
     "name": "stdout",
     "output_type": "stream",
     "text": [
      "Date after which significant orders started (actual starting date of order data) : 2015-03-01\n"
     ]
    }
   ],
   "source": [
    "# find date after which significant orders started\n",
    "starting_date = df_orders_by_time.loc[df_orders_by_time['count'] > 100,:].reset_index()['order_date'][0]\n",
    "starting_date = datetime.strftime(starting_date,'%Y-%m-%d')\n",
    "print('Date after which significant orders started (actual starting date of order data) : {}'.format(starting_date))"
   ]
  },
  {
   "cell_type": "code",
   "execution_count": 158,
   "metadata": {},
   "outputs": [
    {
     "data": {
      "text/plain": [
       "Text(0, 0.5, 'Number of Orders')"
      ]
     },
     "execution_count": 158,
     "metadata": {},
     "output_type": "execute_result"
    },
    {
     "data": {
      "image/png": "[encoded data removed]",
      "text/plain": [
       "<Figure size 864x288 with 1 Axes>"
      ]
     },
     "metadata": {
      "needs_background": "light"
     },
     "output_type": "display_data"
    }
   ],
   "source": [
    "# remove data points before 2015-03-01\n",
    "df_order = df_order.loc[df_order['order_date'] >= starting_date,:]\n",
    "# Let's see how number of orders with time look like\n",
    "df_orders_by_time = df_order.groupby(['order_date'], as_index = False).size().reset_index(name='count')\n",
    "plt.figure(figsize=(12,4))\n",
    "plt.plot(df_orders_by_time['order_date'],df_orders_by_time['count'])\n",
    "plt.title('Number of Orders with time after removing negligible orders', fontsize = 15, fontweight='bold' )\n",
    "plt.xlabel('Time', fontsize = 15)\n",
    "plt.ylabel('Number of Orders', fontsize = 15)"
   ]
  },
  {
   "cell_type": "markdown",
   "metadata": {},
   "source": [
    "####  Distribution of total number of orders by each customer"
   ]
  },
  {
   "cell_type": "code",
   "execution_count": 159,
   "metadata": {},
   "outputs": [
    {
     "data": {
      "text/plain": [
       "Text(0, 0.5, 'Count of customers')"
      ]
     },
     "execution_count": 159,
     "metadata": {},
     "output_type": "execute_result"
    },
    {
     "data": {
      "image/png": "[encoded data removed]",
      "text/plain": [
       "<Figure size 864x288 with 1 Axes>"
      ]
     },
     "metadata": {
      "needs_background": "light"
     },
     "output_type": "display_data"
    }
   ],
   "source": [
    "# Distribution of total number of orders by each customer\n",
    "df_num_orders_by_customers = df_order.groupby(['customer_id'],as_index=False).agg({'customer_order_rank':[max]})\n",
    "df_num_orders_by_customers.columns = ['customer_id','total_num_of_orders']\n",
    "plt.figure(figsize=(12,4))\n",
    "plt.hist(df_num_orders_by_customers['total_num_of_orders'], bins = 20)\n",
    "plt.title('Histogram of total number of orders by each customer', fontsize = 15, fontweight='bold' )\n",
    "plt.xlabel('Total orders by each customer', fontsize = 15)\n",
    "plt.ylabel('Count of customers', fontsize = 15)"
   ]
  },
  {
   "cell_type": "markdown",
   "metadata": {},
   "source": [
    "As expected, We can see that most of the customers has **ordered less than 20 orders** during 1st March, 2015 to 27th Feb, 2017."
   ]
  },
  {
   "cell_type": "markdown",
   "metadata": {},
   "source": [
    "####  Distribution of total amount paid by each customer"
   ]
  },
  {
   "cell_type": "code",
   "execution_count": 160,
   "metadata": {},
   "outputs": [
    {
     "data": {
      "text/plain": [
       "Text(0, 0.5, 'Count of customers')"
      ]
     },
     "execution_count": 160,
     "metadata": {},
     "output_type": "execute_result"
    },
    {
     "data": {
      "image/png": "[encoded data removed]",
      "text/plain": [
       "<Figure size 864x288 with 1 Axes>"
      ]
     },
     "metadata": {
      "needs_background": "light"
     },
     "output_type": "display_data"
    }
   ],
   "source": [
    "df_amount_paid_by_customers = df_order.groupby(['customer_id'],as_index=False).agg({'amount_paid':sum})\n",
    "df_amount_paid_by_customers.columns = ['customer_id','total_amount_paid']\n",
    "plt.figure(figsize=(12,4))\n",
    "plt.hist(df_amount_paid_by_customers['total_amount_paid'], bins = 30)\n",
    "plt.xlim([0, 1500])\n",
    "plt.title('Histogram of total amount paid by each customer', fontsize = 15, fontweight='bold' )\n",
    "plt.xlabel('Total amount paid each customer', fontsize = 15)\n",
    "plt.ylabel('Count of customers', fontsize = 15)"
   ]
  },
  {
   "cell_type": "markdown",
   "metadata": {},
   "source": [
    "### Basic Details of Labeled Data <a class=\"anchor\" id=\"section_3_2\"></a>"
   ]
  },
  {
   "cell_type": "code",
   "execution_count": 161,
   "metadata": {},
   "outputs": [
    {
     "name": "stdout",
     "output_type": "stream",
     "text": [
      "(245455, 2)\n"
     ]
    },
    {
     "data": {
      "text/html": [
       "<div>\n",
       "<style scoped>\n",
       "    .dataframe tbody tr th:only-of-type {\n",
       "        vertical-align: middle;\n",
       "    }\n",
       "\n",
       "    .dataframe tbody tr th {\n",
       "        vertical-align: top;\n",
       "    }\n",
       "\n",
       "    .dataframe thead th {\n",
       "        text-align: right;\n",
       "    }\n",
       "</style>\n",
       "<table border=\"1\" class=\"dataframe\">\n",
       "  <thead>\n",
       "    <tr style=\"text-align: right;\">\n",
       "      <th></th>\n",
       "      <th>customer_id</th>\n",
       "      <th>is_returning_customer</th>\n",
       "    </tr>\n",
       "  </thead>\n",
       "  <tbody>\n",
       "    <tr>\n",
       "      <th>0</th>\n",
       "      <td>000097eabfd9</td>\n",
       "      <td>0</td>\n",
       "    </tr>\n",
       "    <tr>\n",
       "      <th>1</th>\n",
       "      <td>0000e2c6d9be</td>\n",
       "      <td>0</td>\n",
       "    </tr>\n",
       "    <tr>\n",
       "      <th>2</th>\n",
       "      <td>000133bb597f</td>\n",
       "      <td>1</td>\n",
       "    </tr>\n",
       "    <tr>\n",
       "      <th>3</th>\n",
       "      <td>00018269939b</td>\n",
       "      <td>0</td>\n",
       "    </tr>\n",
       "    <tr>\n",
       "      <th>4</th>\n",
       "      <td>0001a00468a6</td>\n",
       "      <td>0</td>\n",
       "    </tr>\n",
       "  </tbody>\n",
       "</table>\n",
       "</div>"
      ],
      "text/plain": [
       "    customer_id  is_returning_customer\n",
       "0  000097eabfd9                      0\n",
       "1  0000e2c6d9be                      0\n",
       "2  000133bb597f                      1\n",
       "3  00018269939b                      0\n",
       "4  0001a00468a6                      0"
      ]
     },
     "execution_count": 161,
     "metadata": {},
     "output_type": "execute_result"
    }
   ],
   "source": [
    "# get glimpse of labeled data\n",
    "print(df_labeled.shape)\n",
    "df_labeled.head()"
   ]
  },
  {
   "cell_type": "code",
   "execution_count": 162,
   "metadata": {},
   "outputs": [
    {
     "data": {
      "text/plain": [
       "245455"
      ]
     },
     "execution_count": 162,
     "metadata": {},
     "output_type": "execute_result"
    }
   ],
   "source": [
    "# number of unique customer ids in labeled data\n",
    "len(df_labeled['customer_id'].unique())"
   ]
  },
  {
   "cell_type": "code",
   "execution_count": 163,
   "metadata": {},
   "outputs": [
    {
     "name": "stdout",
     "output_type": "stream",
     "text": [
      "number of customers returning/non-returning: \n",
      "0    189948\n",
      "1     55507\n",
      "Name: is_returning_customer, dtype: int64\n",
      "\n"
     ]
    },
    {
     "data": {
      "text/plain": [
       "Text(0, 0.5, 'Fraction')"
      ]
     },
     "execution_count": 163,
     "metadata": {},
     "output_type": "execute_result"
    },
    {
     "data": {
      "image/png": "[encoded data removed]",
      "text/plain": [
       "<Figure size 432x288 with 1 Axes>"
      ]
     },
     "metadata": {
      "needs_background": "light"
     },
     "output_type": "display_data"
    }
   ],
   "source": [
    "# number of customers returning/non-returning\n",
    "print('number of customers returning/non-returning: \\n{}\\n'.format(df_labeled['is_returning_customer'].value_counts()))\n",
    "#print('Fraction of customers returning/non-returning: \\n{}'.format(df_labeled['is_returning_customer'].value_counts()/len(df_labeled['is_returning_customer'])))\n",
    "plt.bar(['Non-Returning','Returning'],df_labeled['is_returning_customer'].value_counts()/len(df_labeled['is_returning_customer']))\n",
    "plt.title('Fraction of customers returning/non-returning ', fontsize = 15, fontweight='bold' )\n",
    "plt.xlabel('Customer Type', fontsize = 15)\n",
    "plt.ylabel('Fraction', fontsize = 15)"
   ]
  },
  {
   "cell_type": "markdown",
   "metadata": {},
   "source": [
    " ## Feature Engineering <a class=\"anchor\" id=\"section_4\"></a>"
   ]
  },
  {
   "cell_type": "markdown",
   "metadata": {},
   "source": [
    "### Removing Failed Orders before Feature Engineering <a class=\"anchor\" id=\"section_4_1\"></a>"
   ]
  },
  {
   "cell_type": "code",
   "execution_count": 164,
   "metadata": {},
   "outputs": [],
   "source": [
    "# Removing failed orders\n",
    "df_successful_orders = df_order.loc[df_order['is_failed'] == 0,:]"
   ]
  },
  {
   "cell_type": "markdown",
   "metadata": {},
   "source": [
    "### Creating New Features <a class=\"anchor\" id=\"section_4_2\"></a>"
   ]
  },
  {
   "cell_type": "markdown",
   "metadata": {},
   "source": [
    "#### Total number of orders by each customer(Frequency (F) ) <a class=\"anchor\" id=\"section_4_2_1\"></a> "
   ]
  },
  {
   "cell_type": "code",
   "execution_count": 165,
   "metadata": {},
   "outputs": [],
   "source": [
    "# total orders by each customer\n",
    "df_total_orders = df_successful_orders.groupby(['customer_id'],as_index = False).agg({'customer_order_rank':[max]}) \n",
    "df_total_orders.columns = ['customer_id','total_orders']\n",
    "# merging df_total_orders with df_labeled data\n",
    "df_labeled = df_labeled.merge(df_total_orders, on = ['customer_id'], how = 'left')"
   ]
  },
  {
   "cell_type": "markdown",
   "metadata": {},
   "source": [
    "`Check if percentage of returning customers is correlated with total orders`"
   ]
  },
  {
   "cell_type": "code",
   "execution_count": 223,
   "metadata": {
    "scrolled": true
   },
   "outputs": [
    {
     "data": {
      "image/png": "[encoded data removed]",
      "text/plain": [
       "<Figure size 432x288 with 1 Axes>"
      ]
     },
     "metadata": {
      "needs_background": "light"
     },
     "output_type": "display_data"
    }
   ],
   "source": [
    "# creating bins of total orders\n",
    "bins = [0, 10, 20, 30, max(df_labeled['total_orders'])]\n",
    "temp_df = df_labeled.copy()\n",
    "temp_df['total_order_bins'] = pd.cut(temp_df['total_orders'], bins)\n",
    "# bar plot \n",
    "perc_return_customers(temp_df, 'total_order_bins',bins,\"Percentage of returning customers with total orders\",\n",
    "'Total orders by customers','Percentage of returning customers','manual',fontsize=12)"
   ]
  },
  {
   "cell_type": "markdown",
   "metadata": {},
   "source": [
    "`Above plot shows that Customers with higher number of total orders, have higher tendency to return. Total orders is a relevant/significant predictor`"
   ]
  },
  {
   "cell_type": "markdown",
   "metadata": {},
   "source": [
    "#### Total Order Value by Each Customer <a class=\"anchor\" id=\"section_4_2_2\"></a> \n",
    "`Check if percentage of returning customers is correlated with Total Order Value`"
   ]
  },
  {
   "cell_type": "code",
   "execution_count": 167,
   "metadata": {},
   "outputs": [],
   "source": [
    "# total amount paid by each customer\n",
    "df_total_amount_paid = df_successful_orders.groupby(['customer_id'],as_index = False).agg({'amount_paid':sum})\n",
    "df_total_amount_paid = df_total_amount_paid.rename({'amount_paid':'total_amount_paid'},axis=1)\n",
    "df_labeled = df_labeled.merge(df_total_amount_paid,on=['customer_id'], how = 'left')"
   ]
  },
  {
   "cell_type": "code",
   "execution_count": 224,
   "metadata": {
    "scrolled": true
   },
   "outputs": [
    {
     "data": {
      "image/png": "[encoded data removed]",
      "text/plain": [
       "<Figure size 864x288 with 1 Axes>"
      ]
     },
     "metadata": {
      "needs_background": "light"
     },
     "output_type": "display_data"
    }
   ],
   "source": [
    "# creating bins of total orders\n",
    "bins = [0, 50, 100, 150, 200 , 250, 300, max(df_labeled['total_amount_paid'])]\n",
    "temp_df = df_labeled.copy()\n",
    "temp_df['total_amount_paid_bins'] = pd.cut(temp_df['total_amount_paid'], bins)\n",
    "# bar plot \n",
    "plt.figure(figsize=(12,4))\n",
    "perc_return_customers(temp_df, 'total_amount_paid_bins',bins,\"Percentage of returning customers with total amount paid\",\n",
    "'Total amount paid by customers','Percentage of returning customers','manual',fontsize=12)"
   ]
  },
  {
   "cell_type": "markdown",
   "metadata": {},
   "source": [
    "`Above plot shows that Customers with higher total amount paid, have higher tendency to return. Total amount paid is a relevant/significant predictor`"
   ]
  },
  {
   "cell_type": "markdown",
   "metadata": {},
   "source": [
    "#### Total amount paid in last 180 days <a class=\"anchor\" id=\"section_4_2_3\"></a> \n",
    "`Check if percentage of returning customers is correlated with Total amount paid in last 180 days`"
   ]
  },
  {
   "cell_type": "code",
   "execution_count": 169,
   "metadata": {
    "scrolled": true
   },
   "outputs": [
    {
     "data": {
      "image/png": "[encoded data removed]",
      "text/plain": [
       "<Figure size 864x288 with 1 Axes>"
      ]
     },
     "metadata": {
      "needs_background": "light"
     },
     "output_type": "display_data"
    }
   ],
   "source": [
    "# Percentage of total purchase done in last 180 days\n",
    "last_date = df_successful_orders['order_date'].max()\n",
    "# create temporary dataframe for manipulation\n",
    "temp_df = df_successful_orders.copy()\n",
    "temp_df['days_before_last_date'] = (last_date - temp_df['order_date']).dt.days\n",
    "temp_df = temp_df.loc[temp_df['days_before_last_date'] <= 180,:].groupby(['customer_id'],as_index=False).agg({'amount_paid':sum})\n",
    "temp_df = temp_df.rename({'amount_paid':'amount_paid_in_last_180_days'},axis=1)\n",
    "temp_df.fillna(0, inplace=True)\n",
    "# merge with df_labeled\n",
    "df_labeled = df_labeled.merge(temp_df[['customer_id','amount_paid_in_last_180_days']], on = ['customer_id'], how = 'left')\n",
    "temp_df = df_labeled.copy()\n",
    "temp_df['last_180_days_bins'] = pd.cut(temp_df['amount_paid_in_last_180_days'],4,include_lowest=True, precision=0)\n",
    "# bar plot \n",
    "plt.figure(figsize=(12,4))\n",
    "perc_return_customers(temp_df, 'last_180_days_bins',4,\"Total purchase in last 180 days\",\n",
    "'Total purchase in last 180 days','Percentage of returning customers','auto',fontsize=12)"
   ]
  },
  {
   "cell_type": "markdown",
   "metadata": {},
   "source": [
    "`Above plot shows that Customers with higher total amount paid in last 180 days, have higher tendency to return. Total amount paid is a relevant/significant predictor`"
   ]
  },
  {
   "cell_type": "markdown",
   "metadata": {},
   "source": [
    "#### % of Failed Orders <a class=\"anchor\" id=\"section_4_2_4\"></a> "
   ]
  },
  {
   "cell_type": "markdown",
   "metadata": {},
   "source": [
    "`Customer with higher percentage of failed orders, may have lower chance of returning. We should first verify this hypothesis`"
   ]
  },
  {
   "cell_type": "code",
   "execution_count": 170,
   "metadata": {
    "scrolled": true
   },
   "outputs": [
    {
     "data": {
      "image/png": "[encoded data removed]",
      "text/plain": [
       "<Figure size 864x288 with 1 Axes>"
      ]
     },
     "metadata": {
      "needs_background": "light"
     },
     "output_type": "display_data"
    }
   ],
   "source": [
    "# create temporary dataframe for manipulation\n",
    "temp_df = df_order.groupby(['customer_id'],as_index=False).agg({'is_failed':'sum'})\n",
    "temp_df.columns = ['customer_id','failed_orders']\n",
    "df_labeled = df_labeled.merge(temp_df,on=['customer_id'], how = 'left')\n",
    "temp_df = df_labeled.copy()\n",
    "temp_df['perc_failed_orders'] = (temp_df['failed_orders']/(temp_df['total_orders']+temp_df['failed_orders']))*100\n",
    "# creating bins for bar plot\n",
    "temp_df['failed_order_bin'] = pd.cut(temp_df['perc_failed_orders'],4,include_lowest=True, precision=0)\n",
    "# bar plot \n",
    "plt.figure(figsize=(12,4))\n",
    "perc_return_customers(temp_df, 'failed_order_bin',4,\"Percentage of failed orders\",\n",
    "'Percentage of Failed Orders','Percentage of returning customers','auto',fontsize=12)"
   ]
  },
  {
   "cell_type": "markdown",
   "metadata": {},
   "source": [
    "`From above plot, even though there is not a strong correlation between percentage of failed orders and percentage of returning customers, we can still see that lower % of failed orders have higher % of returning customers. % of failed order is relevant/significant predictor`"
   ]
  },
  {
   "cell_type": "markdown",
   "metadata": {},
   "source": [
    "#### Number of unique restaurants customer ordered from <a class=\"anchor\" id=\"section_4_2_5\"></a> "
   ]
  },
  {
   "cell_type": "markdown",
   "metadata": {},
   "source": [
    "`Customers ordering from various restaurants may have higher likelihood of returning. Let's check`"
   ]
  },
  {
   "cell_type": "code",
   "execution_count": 171,
   "metadata": {
    "scrolled": true
   },
   "outputs": [
    {
     "data": {
      "image/png": "[encoded data removed]",
      "text/plain": [
       "<Figure size 864x288 with 1 Axes>"
      ]
     },
     "metadata": {
      "needs_background": "light"
     },
     "output_type": "display_data"
    }
   ],
   "source": [
    "temp_df = df_successful_orders.groupby(['customer_id','restaurant_id'], as_index=False).agg({'order_date':'count'})\n",
    "temp_df = temp_df.groupby(['customer_id'],as_index=False).size().reset_index(name='count')\n",
    "temp_df.columns = ['customer_id','num_unique_restaurants']\n",
    "df_labeled = df_labeled.merge(temp_df,on=['customer_id'],how = 'left')\n",
    "temp_df1 = df_labeled.copy()\n",
    "# creating bins for bar plot\n",
    "temp_df1['num_unique_restaurants_bins'] = pd.cut(temp_df1['num_unique_restaurants'],4,include_lowest=True, precision=0)\n",
    "# bar plot \n",
    "plt.figure(figsize=(12,4))\n",
    "perc_return_customers(temp_df1, 'num_unique_restaurants_bins',4,\"Number of unique restaurants customer ordered from\",\n",
    "'Number of unique restaurants','Percentage of returning customers','auto',fontsize=12)"
   ]
  },
  {
   "cell_type": "markdown",
   "metadata": {},
   "source": [
    "`From Above plot, we can say that customers who orders from many different restaurants, have higher changes of returning. Numer of unique restaurants is relevant/significant predictor`"
   ]
  },
  {
   "cell_type": "markdown",
   "metadata": {},
   "source": [
    "#### Recency, Customer Maturity, Relative change in spending in 2nd half <a class=\"anchor\" id=\"section_4_2_6\"></a> \n",
    "**Recency (R)** as days since last purchase: How many days ago was their last order? Deduct most recent order date from last date of dataset to calculate the recency value. 1 day ago? 14 days ago? 500 days ago?<br>\n",
    "**Customer Maturity** : Number of days between first order and last date of our data<br>\n",
    "**Relative change in spending in 2nd half** : Relative change in total spending of a customer in the second\n",
    "half of the observation period (m2) when compared with the first\n",
    "half of the observation period (m1), i.e. Δm = (m2 − m1)/m1"
   ]
  },
  {
   "cell_type": "code",
   "execution_count": 232,
   "metadata": {
    "scrolled": true
   },
   "outputs": [
    {
     "data": {
      "image/png": "[encoded data removed]",
      "text/plain": [
       "<Figure size 1152x288 with 2 Axes>"
      ]
     },
     "metadata": {
      "needs_background": "light"
     },
     "output_type": "display_data"
    }
   ],
   "source": [
    "# calculating Recency (R),Customer Maturity and Relative change in spending in 2nd half\n",
    "temp_df = df_successful_orders.copy() # create temporary copy to do manipulation\n",
    "temp_df['days_since_last_purchase'] = (last_date - temp_df['order_date']).dt.days\n",
    "temp_df = temp_df.groupby(['customer_id'],as_index = False).agg({'days_since_last_purchase':[min,max]})\n",
    "temp_df.columns = ['customer_id','recency','customer_maturity']\n",
    "df_labeled = df_labeled.merge(temp_df, on = ['customer_id'], how= 'left')\n",
    "temp_df = temp_df.merge(df_labeled[['customer_id','is_returning_customer']],on = ['customer_id'], how= 'inner')\n",
    "# creating bins of recency\n",
    "temp_df['recency_bins'] = pd.cut(temp_df['recency'],4,include_lowest=True,precision=0 )\n",
    "# creating bins of customer maturity\n",
    "temp_df['customer_maturity_bins'] = pd.cut(temp_df['customer_maturity'],4,include_lowest=True,precision=0 )\n",
    "# bar plot \n",
    "plt.figure(figsize=(16,4))\n",
    "plt.subplot(221,autoscaley_on = True)\n",
    "perc_return_customers(temp_df, 'recency_bins',4,\"Percentage of returning customers with Recency\",\n",
    "'Days Since Last Purchase (Recency)','Percentage of returning customers','auto',fontsize=11)\n",
    "plt.subplot(222,autoscaley_on = True)\n",
    "perc_return_customers(temp_df, 'customer_maturity_bins',4,\"Percentage of returning customers with Customer Maturity\",\n",
    "'Customer Maturity','Percentage of returning customers','auto',fontsize=11)"
   ]
  },
  {
   "cell_type": "code",
   "execution_count": 211,
   "metadata": {},
   "outputs": [
    {
     "data": {
      "text/html": [
       "<div>\n",
       "<style scoped>\n",
       "    .dataframe tbody tr th:only-of-type {\n",
       "        vertical-align: middle;\n",
       "    }\n",
       "\n",
       "    .dataframe tbody tr th {\n",
       "        vertical-align: top;\n",
       "    }\n",
       "\n",
       "    .dataframe thead th {\n",
       "        text-align: right;\n",
       "    }\n",
       "</style>\n",
       "<table border=\"1\" class=\"dataframe\">\n",
       "  <thead>\n",
       "    <tr style=\"text-align: right;\">\n",
       "      <th></th>\n",
       "      <th>customer_id</th>\n",
       "      <th>recency</th>\n",
       "      <th>observation_period</th>\n",
       "      <th>is_returning_customer</th>\n",
       "      <th>recency_bins</th>\n",
       "      <th>observation_period_bins</th>\n",
       "    </tr>\n",
       "  </thead>\n",
       "  <tbody>\n",
       "    <tr>\n",
       "      <th>0</th>\n",
       "      <td>000097eabfd9</td>\n",
       "      <td>618</td>\n",
       "      <td>618</td>\n",
       "      <td>0</td>\n",
       "      <td>(547.0, 729.0]</td>\n",
       "      <td>(547.0, 729.0]</td>\n",
       "    </tr>\n",
       "    <tr>\n",
       "      <th>1</th>\n",
       "      <td>0000e2c6d9be</td>\n",
       "      <td>395</td>\n",
       "      <td>395</td>\n",
       "      <td>0</td>\n",
       "      <td>(364.0, 547.0]</td>\n",
       "      <td>(364.0, 547.0]</td>\n",
       "    </tr>\n",
       "    <tr>\n",
       "      <th>2</th>\n",
       "      <td>000133bb597f</td>\n",
       "      <td>1</td>\n",
       "      <td>1</td>\n",
       "      <td>1</td>\n",
       "      <td>(-2.0, 182.0]</td>\n",
       "      <td>(-2.0, 182.0]</td>\n",
       "    </tr>\n",
       "    <tr>\n",
       "      <th>3</th>\n",
       "      <td>00018269939b</td>\n",
       "      <td>22</td>\n",
       "      <td>22</td>\n",
       "      <td>0</td>\n",
       "      <td>(-2.0, 182.0]</td>\n",
       "      <td>(-2.0, 182.0]</td>\n",
       "    </tr>\n",
       "    <tr>\n",
       "      <th>4</th>\n",
       "      <td>0001a00468a6</td>\n",
       "      <td>573</td>\n",
       "      <td>573</td>\n",
       "      <td>0</td>\n",
       "      <td>(547.0, 729.0]</td>\n",
       "      <td>(547.0, 729.0]</td>\n",
       "    </tr>\n",
       "    <tr>\n",
       "      <th>...</th>\n",
       "      <td>...</td>\n",
       "      <td>...</td>\n",
       "      <td>...</td>\n",
       "      <td>...</td>\n",
       "      <td>...</td>\n",
       "      <td>...</td>\n",
       "    </tr>\n",
       "    <tr>\n",
       "      <th>244930</th>\n",
       "      <td>fffd696eaedd</td>\n",
       "      <td>532</td>\n",
       "      <td>532</td>\n",
       "      <td>0</td>\n",
       "      <td>(364.0, 547.0]</td>\n",
       "      <td>(364.0, 547.0]</td>\n",
       "    </tr>\n",
       "    <tr>\n",
       "      <th>244931</th>\n",
       "      <td>fffe9d5a8d41</td>\n",
       "      <td>150</td>\n",
       "      <td>150</td>\n",
       "      <td>1</td>\n",
       "      <td>(-2.0, 182.0]</td>\n",
       "      <td>(-2.0, 182.0]</td>\n",
       "    </tr>\n",
       "    <tr>\n",
       "      <th>244932</th>\n",
       "      <td>ffff347c3cfa</td>\n",
       "      <td>165</td>\n",
       "      <td>194</td>\n",
       "      <td>1</td>\n",
       "      <td>(-2.0, 182.0]</td>\n",
       "      <td>(182.0, 364.0]</td>\n",
       "    </tr>\n",
       "    <tr>\n",
       "      <th>244933</th>\n",
       "      <td>ffff4519b52d</td>\n",
       "      <td>331</td>\n",
       "      <td>331</td>\n",
       "      <td>0</td>\n",
       "      <td>(182.0, 364.0]</td>\n",
       "      <td>(182.0, 364.0]</td>\n",
       "    </tr>\n",
       "    <tr>\n",
       "      <th>244934</th>\n",
       "      <td>ffffccbfc8a4</td>\n",
       "      <td>639</td>\n",
       "      <td>639</td>\n",
       "      <td>0</td>\n",
       "      <td>(547.0, 729.0]</td>\n",
       "      <td>(547.0, 729.0]</td>\n",
       "    </tr>\n",
       "  </tbody>\n",
       "</table>\n",
       "<p>244935 rows × 6 columns</p>\n",
       "</div>"
      ],
      "text/plain": [
       "         customer_id  recency  observation_period  is_returning_customer  \\\n",
       "0       000097eabfd9      618                 618                      0   \n",
       "1       0000e2c6d9be      395                 395                      0   \n",
       "2       000133bb597f        1                   1                      1   \n",
       "3       00018269939b       22                  22                      0   \n",
       "4       0001a00468a6      573                 573                      0   \n",
       "...              ...      ...                 ...                    ...   \n",
       "244930  fffd696eaedd      532                 532                      0   \n",
       "244931  fffe9d5a8d41      150                 150                      1   \n",
       "244932  ffff347c3cfa      165                 194                      1   \n",
       "244933  ffff4519b52d      331                 331                      0   \n",
       "244934  ffffccbfc8a4      639                 639                      0   \n",
       "\n",
       "          recency_bins observation_period_bins  \n",
       "0       (547.0, 729.0]          (547.0, 729.0]  \n",
       "1       (364.0, 547.0]          (364.0, 547.0]  \n",
       "2        (-2.0, 182.0]           (-2.0, 182.0]  \n",
       "3        (-2.0, 182.0]           (-2.0, 182.0]  \n",
       "4       (547.0, 729.0]          (547.0, 729.0]  \n",
       "...                ...                     ...  \n",
       "244930  (364.0, 547.0]          (364.0, 547.0]  \n",
       "244931   (-2.0, 182.0]           (-2.0, 182.0]  \n",
       "244932   (-2.0, 182.0]          (182.0, 364.0]  \n",
       "244933  (182.0, 364.0]          (182.0, 364.0]  \n",
       "244934  (547.0, 729.0]          (547.0, 729.0]  \n",
       "\n",
       "[244935 rows x 6 columns]"
      ]
     },
     "execution_count": 211,
     "metadata": {},
     "output_type": "execute_result"
    }
   ],
   "source": []
  },
  {
   "cell_type": "code",
   "execution_count": 206,
   "metadata": {},
   "outputs": [
    {
     "data": {
      "image/png": "[encoded data removed]",
      "text/plain": [
       "<Figure size 864x288 with 2 Axes>"
      ]
     },
     "metadata": {
      "needs_background": "light"
     },
     "output_type": "display_data"
    }
   ],
   "source": [
    "# bar plot \n",
    "plt.figure(figsize=(12,4))\n",
    "plt.subplot2grid((1,2), (0,0))\n",
    "perc_return_customers(temp_df, 'recency_bins',4,\"Percentage of returning customers with Recency\",\n",
    "'Days Since Last Purchase (Recency)','Percentage of returning customers','auto')\n",
    "plt.subplot2grid((1,2), (0,1))\n",
    "perc_return_customers(temp_df, 'recency_bins',4,\"Percentage of returning customers with Recency\",\n",
    "'Days Since Last Purchase (Recency)','Percentage of returning customers','auto')"
   ]
  },
  {
   "cell_type": "code",
   "execution_count": 196,
   "metadata": {},
   "outputs": [],
   "source": []
  },
  {
   "cell_type": "code",
   "execution_count": 184,
   "metadata": {},
   "outputs": [
    {
     "data": {
      "text/html": [
       "<div>\n",
       "<style scoped>\n",
       "    .dataframe tbody tr th:only-of-type {\n",
       "        vertical-align: middle;\n",
       "    }\n",
       "\n",
       "    .dataframe tbody tr th {\n",
       "        vertical-align: top;\n",
       "    }\n",
       "\n",
       "    .dataframe thead th {\n",
       "        text-align: right;\n",
       "    }\n",
       "</style>\n",
       "<table border=\"1\" class=\"dataframe\">\n",
       "  <thead>\n",
       "    <tr style=\"text-align: right;\">\n",
       "      <th></th>\n",
       "      <th>customer_id</th>\n",
       "      <th>order_date</th>\n",
       "      <th>order_hour</th>\n",
       "      <th>customer_order_rank</th>\n",
       "      <th>is_failed</th>\n",
       "      <th>voucher_amount</th>\n",
       "      <th>delivery_fee</th>\n",
       "      <th>amount_paid</th>\n",
       "      <th>restaurant_id</th>\n",
       "      <th>city_id</th>\n",
       "      <th>payment_id</th>\n",
       "      <th>platform_id</th>\n",
       "      <th>transmission_id</th>\n",
       "      <th>days_since_last_purchase</th>\n",
       "    </tr>\n",
       "  </thead>\n",
       "  <tbody>\n",
       "    <tr>\n",
       "      <th>0</th>\n",
       "      <td>000097eabfd9</td>\n",
       "      <td>2015-06-20</td>\n",
       "      <td>19</td>\n",
       "      <td>1.0</td>\n",
       "      <td>0</td>\n",
       "      <td>0.0</td>\n",
       "      <td>0.000</td>\n",
       "      <td>11.46960</td>\n",
       "      <td>5803498</td>\n",
       "      <td>20326</td>\n",
       "      <td>1779</td>\n",
       "      <td>30231</td>\n",
       "      <td>4356</td>\n",
       "      <td>618</td>\n",
       "    </tr>\n",
       "    <tr>\n",
       "      <th>1</th>\n",
       "      <td>0000e2c6d9be</td>\n",
       "      <td>2016-01-29</td>\n",
       "      <td>20</td>\n",
       "      <td>1.0</td>\n",
       "      <td>0</td>\n",
       "      <td>0.0</td>\n",
       "      <td>0.000</td>\n",
       "      <td>9.55800</td>\n",
       "      <td>239303498</td>\n",
       "      <td>76547</td>\n",
       "      <td>1619</td>\n",
       "      <td>30359</td>\n",
       "      <td>4356</td>\n",
       "      <td>395</td>\n",
       "    </tr>\n",
       "    <tr>\n",
       "      <th>2</th>\n",
       "      <td>000133bb597f</td>\n",
       "      <td>2017-02-26</td>\n",
       "      <td>19</td>\n",
       "      <td>1.0</td>\n",
       "      <td>0</td>\n",
       "      <td>0.0</td>\n",
       "      <td>0.493</td>\n",
       "      <td>5.93658</td>\n",
       "      <td>206463498</td>\n",
       "      <td>33833</td>\n",
       "      <td>1619</td>\n",
       "      <td>30359</td>\n",
       "      <td>4324</td>\n",
       "      <td>1</td>\n",
       "    </tr>\n",
       "    <tr>\n",
       "      <th>3</th>\n",
       "      <td>00018269939b</td>\n",
       "      <td>2017-02-05</td>\n",
       "      <td>17</td>\n",
       "      <td>1.0</td>\n",
       "      <td>0</td>\n",
       "      <td>0.0</td>\n",
       "      <td>0.493</td>\n",
       "      <td>9.82350</td>\n",
       "      <td>36613498</td>\n",
       "      <td>99315</td>\n",
       "      <td>1619</td>\n",
       "      <td>30359</td>\n",
       "      <td>4356</td>\n",
       "      <td>22</td>\n",
       "    </tr>\n",
       "    <tr>\n",
       "      <th>4</th>\n",
       "      <td>0001a00468a6</td>\n",
       "      <td>2015-08-04</td>\n",
       "      <td>19</td>\n",
       "      <td>1.0</td>\n",
       "      <td>0</td>\n",
       "      <td>0.0</td>\n",
       "      <td>0.493</td>\n",
       "      <td>5.15070</td>\n",
       "      <td>225853498</td>\n",
       "      <td>16456</td>\n",
       "      <td>1619</td>\n",
       "      <td>29463</td>\n",
       "      <td>4356</td>\n",
       "      <td>573</td>\n",
       "    </tr>\n",
       "    <tr>\n",
       "      <th>...</th>\n",
       "      <td>...</td>\n",
       "      <td>...</td>\n",
       "      <td>...</td>\n",
       "      <td>...</td>\n",
       "      <td>...</td>\n",
       "      <td>...</td>\n",
       "      <td>...</td>\n",
       "      <td>...</td>\n",
       "      <td>...</td>\n",
       "      <td>...</td>\n",
       "      <td>...</td>\n",
       "      <td>...</td>\n",
       "      <td>...</td>\n",
       "      <td>...</td>\n",
       "    </tr>\n",
       "    <tr>\n",
       "      <th>786594</th>\n",
       "      <td>fffe9d5a8d41</td>\n",
       "      <td>2016-09-30</td>\n",
       "      <td>20</td>\n",
       "      <td>1.0</td>\n",
       "      <td>0</td>\n",
       "      <td>0.0</td>\n",
       "      <td>0.000</td>\n",
       "      <td>10.72620</td>\n",
       "      <td>983498</td>\n",
       "      <td>10346</td>\n",
       "      <td>1779</td>\n",
       "      <td>29463</td>\n",
       "      <td>4228</td>\n",
       "      <td>150</td>\n",
       "    </tr>\n",
       "    <tr>\n",
       "      <th>786596</th>\n",
       "      <td>ffff347c3cfa</td>\n",
       "      <td>2016-08-17</td>\n",
       "      <td>21</td>\n",
       "      <td>1.0</td>\n",
       "      <td>0</td>\n",
       "      <td>0.0</td>\n",
       "      <td>0.000</td>\n",
       "      <td>7.59330</td>\n",
       "      <td>52893498</td>\n",
       "      <td>41978</td>\n",
       "      <td>1619</td>\n",
       "      <td>30359</td>\n",
       "      <td>4356</td>\n",
       "      <td>194</td>\n",
       "    </tr>\n",
       "    <tr>\n",
       "      <th>786597</th>\n",
       "      <td>ffff347c3cfa</td>\n",
       "      <td>2016-09-15</td>\n",
       "      <td>21</td>\n",
       "      <td>2.0</td>\n",
       "      <td>0</td>\n",
       "      <td>0.0</td>\n",
       "      <td>0.000</td>\n",
       "      <td>5.94720</td>\n",
       "      <td>164653498</td>\n",
       "      <td>41978</td>\n",
       "      <td>1619</td>\n",
       "      <td>30359</td>\n",
       "      <td>4356</td>\n",
       "      <td>165</td>\n",
       "    </tr>\n",
       "    <tr>\n",
       "      <th>786598</th>\n",
       "      <td>ffff4519b52d</td>\n",
       "      <td>2016-04-02</td>\n",
       "      <td>19</td>\n",
       "      <td>1.0</td>\n",
       "      <td>0</td>\n",
       "      <td>0.0</td>\n",
       "      <td>0.000</td>\n",
       "      <td>21.77100</td>\n",
       "      <td>16363498</td>\n",
       "      <td>80562</td>\n",
       "      <td>1491</td>\n",
       "      <td>29751</td>\n",
       "      <td>4228</td>\n",
       "      <td>331</td>\n",
       "    </tr>\n",
       "    <tr>\n",
       "      <th>786599</th>\n",
       "      <td>ffffccbfc8a4</td>\n",
       "      <td>2015-05-30</td>\n",
       "      <td>20</td>\n",
       "      <td>1.0</td>\n",
       "      <td>0</td>\n",
       "      <td>0.0</td>\n",
       "      <td>0.000</td>\n",
       "      <td>16.46100</td>\n",
       "      <td>150293498</td>\n",
       "      <td>45952</td>\n",
       "      <td>1619</td>\n",
       "      <td>29463</td>\n",
       "      <td>4324</td>\n",
       "      <td>639</td>\n",
       "    </tr>\n",
       "  </tbody>\n",
       "</table>\n",
       "<p>761786 rows × 14 columns</p>\n",
       "</div>"
      ],
      "text/plain": [
       "         customer_id order_date  order_hour  customer_order_rank  is_failed  \\\n",
       "0       000097eabfd9 2015-06-20          19                  1.0          0   \n",
       "1       0000e2c6d9be 2016-01-29          20                  1.0          0   \n",
       "2       000133bb597f 2017-02-26          19                  1.0          0   \n",
       "3       00018269939b 2017-02-05          17                  1.0          0   \n",
       "4       0001a00468a6 2015-08-04          19                  1.0          0   \n",
       "...              ...        ...         ...                  ...        ...   \n",
       "786594  fffe9d5a8d41 2016-09-30          20                  1.0          0   \n",
       "786596  ffff347c3cfa 2016-08-17          21                  1.0          0   \n",
       "786597  ffff347c3cfa 2016-09-15          21                  2.0          0   \n",
       "786598  ffff4519b52d 2016-04-02          19                  1.0          0   \n",
       "786599  ffffccbfc8a4 2015-05-30          20                  1.0          0   \n",
       "\n",
       "        voucher_amount  delivery_fee  amount_paid  restaurant_id  city_id  \\\n",
       "0                  0.0         0.000     11.46960        5803498    20326   \n",
       "1                  0.0         0.000      9.55800      239303498    76547   \n",
       "2                  0.0         0.493      5.93658      206463498    33833   \n",
       "3                  0.0         0.493      9.82350       36613498    99315   \n",
       "4                  0.0         0.493      5.15070      225853498    16456   \n",
       "...                ...           ...          ...            ...      ...   \n",
       "786594             0.0         0.000     10.72620         983498    10346   \n",
       "786596             0.0         0.000      7.59330       52893498    41978   \n",
       "786597             0.0         0.000      5.94720      164653498    41978   \n",
       "786598             0.0         0.000     21.77100       16363498    80562   \n",
       "786599             0.0         0.000     16.46100      150293498    45952   \n",
       "\n",
       "        payment_id  platform_id  transmission_id  days_since_last_purchase  \n",
       "0             1779        30231             4356                       618  \n",
       "1             1619        30359             4356                       395  \n",
       "2             1619        30359             4324                         1  \n",
       "3             1619        30359             4356                        22  \n",
       "4             1619        29463             4356                       573  \n",
       "...            ...          ...              ...                       ...  \n",
       "786594        1779        29463             4228                       150  \n",
       "786596        1619        30359             4356                       194  \n",
       "786597        1619        30359             4356                       165  \n",
       "786598        1491        29751             4228                       331  \n",
       "786599        1619        29463             4324                       639  \n",
       "\n",
       "[761786 rows x 14 columns]"
      ]
     },
     "execution_count": 184,
     "metadata": {},
     "output_type": "execute_result"
    }
   ],
   "source": []
  }
 ],
 "metadata": {
  "kernelspec": {
   "display_name": "Python 3",
   "language": "python",
   "name": "python3"
  },
  "language_info": {
   "codemirror_mode": {
    "name": "ipython",
    "version": 3
   },
   "file_extension": ".py",
   "mimetype": "text/x-python",
   "name": "python",
   "nbconvert_exporter": "python",
   "pygments_lexer": "ipython3",
   "version": "3.7.3"
  }
 },
 "nbformat": 4,
 "nbformat_minor": 4
}
