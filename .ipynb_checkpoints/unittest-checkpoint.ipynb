{
 "cells": [
  {
   "cell_type": "code",
   "execution_count": 9,
   "metadata": {},
   "outputs": [],
   "source": [
    "import pandas as pd"
   ]
  },
  {
   "cell_type": "code",
   "execution_count": 11,
   "metadata": {},
   "outputs": [],
   "source": [
    "import unittest\n",
    "import ipynb"
   ]
  },
  {
   "cell_type": "code",
   "execution_count": 13,
   "metadata": {},
   "outputs": [
    {
     "ename": "SyntaxError",
     "evalue": "invalid syntax (customer_return_main_code.ipynb, line 380)",
     "output_type": "error",
     "traceback": [
      "Traceback \u001b[1;36m(most recent call last)\u001b[0m:\n",
      "  File \u001b[0;32m\"C:\\Users\\Ajay\\anaconda3\\lib\\site-packages\\IPython\\core\\interactiveshell.py\"\u001b[0m, line \u001b[0;32m3331\u001b[0m, in \u001b[0;35mrun_code\u001b[0m\n    exec(code_obj, self.user_global_ns, self.user_ns)\n",
      "  File \u001b[0;32m\"<ipython-input-13-f7536cdaa772>\"\u001b[0m, line \u001b[0;32m1\u001b[0m, in \u001b[0;35m<module>\u001b[0m\n    from ipynb.fs.full.customer_return_main_code import num_unique_values\n",
      "  File \u001b[0;32m\"<frozen importlib._bootstrap>\"\u001b[0m, line \u001b[0;32m983\u001b[0m, in \u001b[0;35m_find_and_load\u001b[0m\n",
      "  File \u001b[0;32m\"<frozen importlib._bootstrap>\"\u001b[0m, line \u001b[0;32m967\u001b[0m, in \u001b[0;35m_find_and_load_unlocked\u001b[0m\n",
      "  File \u001b[0;32m\"<frozen importlib._bootstrap>\"\u001b[0m, line \u001b[0;32m677\u001b[0m, in \u001b[0;35m_load_unlocked\u001b[0m\n",
      "  File \u001b[0;32m\"<frozen importlib._bootstrap_external>\"\u001b[0m, line \u001b[0;32m724\u001b[0m, in \u001b[0;35mexec_module\u001b[0m\n",
      "\u001b[1;36m  File \u001b[1;32m\"C:\\Users\\Ajay\\anaconda3\\lib\\site-packages\\ipynb\\fs\\full\\__init__.py\"\u001b[1;36m, line \u001b[1;32m43\u001b[1;36m, in \u001b[1;35mget_code\u001b[1;36m\u001b[0m\n\u001b[1;33m    return self.source_to_code(code_from_ipynb(nb), self.path)\u001b[0m\n",
      "\u001b[1;36m  File \u001b[1;32m\"C:\\Users\\Ajay\\Videos\\delivery_hero_test\\good_boy\\customer_return_main_code.ipynb\"\u001b[1;36m, line \u001b[1;32m380\u001b[0m\n\u001b[1;33m    \"      <td>30231</td>\\n\",\u001b[0m\n\u001b[1;37m    ^\u001b[0m\n\u001b[1;31mSyntaxError\u001b[0m\u001b[1;31m:\u001b[0m invalid syntax\n"
     ]
    }
   ],
   "source": [
    "from ipynb.fs.full.customer_return_main_code import num_unique_values"
   ]
  },
  {
   "cell_type": "code",
   "execution_count": 14,
   "metadata": {},
   "outputs": [],
   "source": [
    "def cuboid_volume(l):\n",
    "    if type(l) not in [int,float]:\n",
    "        raise TypeError('the lenght should be number')\n",
    "    return (l*l*l)"
   ]
  },
  {
   "cell_type": "code",
   "execution_count": 3,
   "metadata": {},
   "outputs": [],
   "source": [
    "def square(l):\n",
    "    if type(l) not in [int,float]:\n",
    "        raise TypeError('give me number')\n",
    "    return (l*l)"
   ]
  },
  {
   "cell_type": "code",
   "execution_count": 4,
   "metadata": {},
   "outputs": [],
   "source": [
    "class TestOutputs(unittest.TestCase):\n",
    "    def test_num_unique_values(self):\n",
    "        self.assertAlmostEqual(cuboid_volume(2),8)\n",
    "        self.assertAlmostEqual(cuboid_volume(1),1)\n",
    "        self.assertAlmostEqual(cuboid_volume(0),0)\n",
    "        self.assertAlmostEqual(cuboid_volume('m'),27)\n",
    "    def test_input_value(self):\n",
    "        self.assertRaises(TypeError,cuboid_volume,True)"
   ]
  },
  {
   "cell_type": "code",
   "execution_count": 5,
   "metadata": {},
   "outputs": [],
   "source": [
    "class Testsqr(unittest.TestCase):\n",
    "    def test_sqr(self):\n",
    "        self.assertAlmostEqual(square(2),4)\n",
    "        self.assertAlmostEqual(square(1),1)\n",
    "        self.assertAlmostEqual(square(0),0)\n",
    "        self.assertAlmostEqual(square('k'),9)\n",
    "    def test_value(self):\n",
    "        self.assertRaises(TypeError,square,True)"
   ]
  },
  {
   "cell_type": "code",
   "execution_count": 6,
   "metadata": {
    "scrolled": true
   },
   "outputs": [
    {
     "name": "stderr",
     "output_type": "stream",
     "text": [
      "test_input_value (__main__.TestCuboid) ... ok\n",
      "test_volume (__main__.TestCuboid) ... ERROR\n",
      "test_sqr (__main__.Testsqr) ... ERROR\n",
      "test_value (__main__.Testsqr) ... ok\n",
      "\n",
      "======================================================================\n",
      "ERROR: test_volume (__main__.TestCuboid)\n",
      "----------------------------------------------------------------------\n",
      "Traceback (most recent call last):\n",
      "  File \"<ipython-input-4-2e9cc2002072>\", line 6, in test_volume\n",
      "    self.assertAlmostEqual(cuboid_volume('m'),27)\n",
      "  File \"<ipython-input-2-4deb0838dd2c>\", line 3, in cuboid_volume\n",
      "    raise TypeError('the lenght should be number')\n",
      "TypeError: the lenght should be number\n",
      "\n",
      "======================================================================\n",
      "ERROR: test_sqr (__main__.Testsqr)\n",
      "----------------------------------------------------------------------\n",
      "Traceback (most recent call last):\n",
      "  File \"<ipython-input-5-b9d62f25830e>\", line 6, in test_sqr\n",
      "    self.assertAlmostEqual(square('k'),9)\n",
      "  File \"<ipython-input-3-cc7a7092d77d>\", line 3, in square\n",
      "    raise TypeError('give me number')\n",
      "TypeError: give me number\n",
      "\n",
      "----------------------------------------------------------------------\n",
      "Ran 4 tests in 0.017s\n",
      "\n",
      "FAILED (errors=2)\n"
     ]
    },
    {
     "data": {
      "text/plain": [
       "<unittest.main.TestProgram at 0xc8c0f81048>"
      ]
     },
     "execution_count": 6,
     "metadata": {},
     "output_type": "execute_result"
    }
   ],
   "source": [
    "unittest.main(argv=[''],verbosity=2,exit=False)"
   ]
  },
  {
   "cell_type": "code",
   "execution_count": null,
   "metadata": {},
   "outputs": [],
   "source": []
  },
  {
   "cell_type": "code",
   "execution_count": null,
   "metadata": {},
   "outputs": [],
   "source": []
  }
 ],
 "metadata": {
  "kernelspec": {
   "display_name": "Python 3",
   "language": "python",
   "name": "python3"
  },
  "language_info": {
   "codemirror_mode": {
    "name": "ipython",
    "version": 3
   },
   "file_extension": ".py",
   "mimetype": "text/x-python",
   "name": "python",
   "nbconvert_exporter": "python",
   "pygments_lexer": "ipython3",
   "version": "3.7.6"
  }
 },
 "nbformat": 4,
 "nbformat_minor": 4
}
