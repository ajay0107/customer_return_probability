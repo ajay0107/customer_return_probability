{
 "metadata": {
  "kernelspec": {
   "display_name": "Streamlit Notebook",
   "name": "streamlit"
  },
  "lastEditStatus": {
   "notebookId": "7ys2rf574o7s4qn3h5ge",
   "authorId": "2665515635921",
   "authorName": "AJAY01071992",
   "authorEmail": "ajay01071992@gmail.com",
   "sessionId": "cb4634cb-32ee-42b0-8545-1eb7c0f3b04f",
   "lastEditTime": 1749071974539
  }
 },
 "nbformat_minor": 5,
 "nbformat": 4,
 "cells": [
  {
   "cell_type": "code",
   "id": "b39a568c-d95a-4959-a8b0-d4b01016e84d",
   "metadata": {
    "language": "python",
    "name": "cell1"
   },
   "outputs": [],
   "source": "import pandas as pd",
   "execution_count": null
  }
 ]
}